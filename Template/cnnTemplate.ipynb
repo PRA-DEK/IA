{
 "cells": [
  {
   "cell_type": "markdown",
   "metadata": {},
   "source": [
    "# Ethno\n",
    "\n",
    "This notebook is a global template for loading and preprocess data.\n",
    "\n",
    "## What is the SVM algorithm?\n",
    "\n",
    " It is a supervised learning algorithm designed to solve discrimination and regression problems.\n",
    " \n",
    " It is a very good image classification algorithm.\n",
    " \n",
    " ![enter image description here](https://editor.analyticsvidhya.com/uploads/61706svm3.png)\n",
    " \n",
    " ## Summary\n",
    " \n",
    " 1. [Data preparation](#prepaData)\n",
    " 2. [Learning of model](#model)\n",
    " 3. [Displaying metrics](#metric)\n",
    " 4. [Conclusion](#conclusion)\n",
    "\n",
    "### 1. Data preparation <a id=\"prepaData\"></a>\n",
    " \n",
    " - To start, we import the necessary libraries."
   ]
  },
  {
   "cell_type": "markdown",
   "metadata": {},
   "source": [
    " #### Datasets : Download the CUB datasets at this address https://deepai.org/dataset/cub-200-2011 then rename it to 'data'"
   ]
  },
  {
   "cell_type": "code",
   "execution_count": 36,
   "metadata": {
    "_cell_guid": "b1076dfc-b9ad-4769-8c92-a6c4dae69d19",
    "_uuid": "8f2839f25d086af736a60e9eeb907d3b93b6e0e5"
   },
   "outputs": [],
   "source": [
    "# This Python 3 environment comes with many helpful analytics libraries installed\n",
    "# It is defined by the kaggle/python Docker image: https://github.com/kaggle/docker-python\n",
    "# For example, here's several helpful packages to load\n",
    "\n",
    "import numpy as np # linear algebra\n",
    "import pandas as pd # data processing, CSV file I/O (e.g. pd.read_csv)\n",
    "\n",
    "# Input data files are available in the read-only \"../input/\" directory\n",
    "# For example, running this (by clicking run or pressing Shift+Enter) will list all files under the input directory\n",
    "\n",
    "import os\n",
    "import cv2\n",
    "import time\n",
    "import shutil\n",
    "import pickle\n",
    "import pathlib\n",
    "import itertools\n",
    "import pandas as pd\n",
    "import tensorflow as tf\n",
    "import matplotlib.pyplot as plt\n",
    "from tensorflow.keras.layers import Dense, Conv2D, Input, Flatten, Dropout, MaxPooling2D\n",
    "from sklearn.metrics import classification_report, confusion_matrix\n",
    "from sklearn.model_selection import train_test_split\n",
    "from tensorflow.keras.models import Model\n",
    "from tensorflow.keras.callbacks import EarlyStopping\n",
    "\n",
    "\n",
    "# You can write up to 20GB to the current directory (/kaggle/working/) that gets preserved as output when you create a version using \"Save & Run All\" \n",
    "# You can also write temporary files to /kaggle/temp/, but they won't be saved outside of the current session"
   ]
  },
  {
   "cell_type": "markdown",
   "metadata": {},
   "source": [
    "## data set creation"
   ]
  },
  {
   "cell_type": "code",
   "execution_count": 37,
   "metadata": {},
   "outputs": [],
   "source": [
    "ROOT_DIR = './data'\n"
   ]
  },
  {
   "cell_type": "code",
   "execution_count": 38,
   "metadata": {},
   "outputs": [],
   "source": [
    "orig_images_folder = 'images'\n",
    "if os.path.exists('./data/datasets'):\n",
    "  shutil.rmtree('./data/datasets')\n",
    "else:\n",
    "  new_images_folder = 'datasets'\n",
    "\n",
    "  image_fnames = pd.read_csv(filepath_or_buffer=os.path.join(ROOT_DIR, 'images.txt'),\n",
    "                           header=None,\n",
    "                           delimiter=' ',\n",
    "                           names=['Img ID', 'file path'])\n",
    "\n",
    "  image_fnames['is training image?'] = pd.read_csv(filepath_or_buffer=os.path.join(ROOT_DIR, 'train_test_split.txt'),\n",
    "                                                 header=None, delimiter=' ',\n",
    "                                                 names=['Img ID', 'is training image?'])['is training image?']\n",
    "  image_fnames.head()\n"
   ]
  },
  {
   "cell_type": "code",
   "execution_count": 39,
   "metadata": {},
   "outputs": [],
   "source": [
    "data_dir = os.path.join(ROOT_DIR, orig_images_folder)\n",
    "new_data_dir = os.path.join(ROOT_DIR, new_images_folder)\n",
    "os.makedirs(os.path.join(new_data_dir, 'train'), exist_ok=True)\n",
    "os.makedirs(os.path.join(new_data_dir, 'test'), exist_ok=True)\n",
    "os.makedirs(os.path.join(new_data_dir, 'val'), exist_ok=True)\n",
    "\n",
    "for i_image, image_fname in enumerate(image_fnames['file path']):\n",
    "    if image_fnames['is training image?'].iloc[i_image]:\n",
    "        new_dir = os.path.join(new_data_dir, 'train',\n",
    "                               image_fname.split('/')[0])\n",
    "        os.makedirs(new_dir, exist_ok=True)\n",
    "        shutil.copy(src=os.path.join(data_dir, image_fname),\n",
    "                    dst=os.path.join(new_dir, image_fname.split('/')[1]))\n",
    "    else:\n",
    "        new_dir = os.path.join(new_data_dir, 'test', image_fname.split('/')[0])\n",
    "        os.makedirs(new_dir, exist_ok=True)\n",
    "        shutil.copy(src=os.path.join(data_dir, image_fname),\n",
    "                    dst=os.path.join(new_dir, image_fname.split('/')[1]))\n",
    "        \n",
    "        new_dir = os.path.join(new_data_dir, 'val', image_fname.split('/')[0])\n",
    "        os.makedirs(new_dir, exist_ok=True)\n",
    "        shutil.copy(src=os.path.join(data_dir, image_fname),\n",
    "                    dst=os.path.join(new_dir, image_fname.split('/')[1]))\n"
   ]
  },
  {
   "cell_type": "code",
   "execution_count": 40,
   "metadata": {},
   "outputs": [
    {
     "name": "stdout",
     "output_type": "stream",
     "text": [
      "prepare dataset structure done.\n"
     ]
    }
   ],
   "source": [
    "src_test_pigeon = './data/datasets/test/058.Pigeon_Guillemot'\n",
    "dest_test_pigeon = './data/datasetsSelect/test/058.Pigeon_Guillemot'\n",
    "\n",
    "src_train_pigeon = './data/datasets/train/058.Pigeon_Guillemot'\n",
    "dest_train_pigeon = './data/datasetsSelect/train/058.Pigeon_Guillemot'\n",
    "\n",
    "src_val_pigeon = './data/datasets/val/058.Pigeon_Guillemot'\n",
    "dest_val_pigeon = './data/datasetsSelect/val/058.Pigeon_Guillemot'\n",
    "\n",
    "src_test_woodpecker = './data/datasets/test/191.Red_headed_Woodpecker'\n",
    "dest_test_woodpecker = './data/datasetsSelect/test/191.Red_headed_Woodpecker'\n",
    "\n",
    "src_val_woodpecker = './data/datasets/val/191.Red_headed_Woodpecker'\n",
    "dest_val_woodpecker = './data/datasetsSelect/val/191.Red_headed_Woodpecker'\n",
    "\n",
    "src_train_woodpecker = './data/datasets/train/191.Red_headed_Woodpecker'\n",
    "dest_train_woodpecker = './data/datasetsSelect/train/191.Red_headed_Woodpecker'\n",
    "\n",
    "shutil.move(src_test_pigeon, dest_test_pigeon)\n",
    "shutil.move(src_train_pigeon, dest_train_pigeon)\n",
    "\n",
    "shutil.move(src_val_pigeon, dest_val_pigeon)\n",
    "\n",
    "shutil.move(src_val_woodpecker, dest_val_woodpecker)\n",
    "\n",
    "shutil.move(src_test_woodpecker, dest_test_woodpecker)\n",
    "shutil.move(src_train_woodpecker, dest_train_woodpecker)\n",
    "\n",
    "shutil.rmtree('./data/datasets')\n",
    "\n",
    "print('prepare dataset structure done.')"
   ]
  },
  {
   "cell_type": "markdown",
   "metadata": {},
   "source": [
    " - We define all necessary variables."
   ]
  },
  {
   "cell_type": "code",
   "execution_count": 45,
   "metadata": {},
   "outputs": [],
   "source": [
    "path = './data/datasetsSelect'\n",
    "train_path = './data/datasetsSelect/train'\n",
    "test_path = './data/datasetsSelect/test'\n",
    "val_path = './data/datasetsSelect/val'\n",
    "IMG_SIZE = 100\n",
    "scale = 1\n",
    "batch_size = 10\n",
    "nb_train_samples = 100\n",
    "nb_validation_samples = 100\n",
    "epochs = 10\n",
    "labels = ['058.Pigeon_Guillemot', '191.Red_headed_Woodpecker']\n",
    "\n",
    "\n"
   ]
  },
  {
   "cell_type": "markdown",
   "metadata": {},
   "source": [
    "## Get trainning data"
   ]
  },
  {
   "cell_type": "code",
   "execution_count": 46,
   "metadata": {},
   "outputs": [],
   "source": [
    "def get_training_data(data_dir, size):\n",
    "    data = list()\n",
    "    for label in labels:\n",
    "        path = os.path.join(data_dir, label)\n",
    "        class_num = labels.index(label)\n",
    "        for image in os.listdir(path):\n",
    "            if(image != \".DS_Store\"):\n",
    "                try:\n",
    "                    image_arr = cv2.imread(os.path.join(\n",
    "                        path, image), cv2.IMREAD_GRAYSCALE)\n",
    "                    resized_arr = cv2.resize(image_arr, (size, size))\n",
    "                    data.append([resized_arr, class_num])\n",
    "                except Exception as e:\n",
    "                    print(e)\n",
    "    return np.array(data, dtype=\"object\")\n"
   ]
  },
  {
   "cell_type": "code",
   "execution_count": 47,
   "metadata": {},
   "outputs": [],
   "source": [
    "test = get_training_data(test_path, IMG_SIZE)\n",
    "train = get_training_data(train_path, IMG_SIZE)\n",
    "val = get_training_data(val_path, IMG_SIZE)"
   ]
  },
  {
   "cell_type": "markdown",
   "metadata": {},
   "source": [
    "## Balance dataset\n"
   ]
  },
  {
   "cell_type": "code",
   "execution_count": 48,
   "metadata": {},
   "outputs": [],
   "source": [
    "def mix_datasets(array):\n",
    "    arr_1 = array[np.where(array[:, 1] == 1)]\n",
    "    arr_0 = array[np.where(array[:, 1] == 0)]\n",
    "    l_arr_1 = len(arr_1)\n",
    "    l_arr_0 = len(arr_0)\n",
    "    diff = 0\n",
    "\n",
    "    if l_arr_0 > l_arr_1:\n",
    "        diff = l_arr_0 - l_arr_1\n",
    "        arr_0.resize((l_arr_0 - diff, arr_0.shape[1]))\n",
    "        array = np.concatenate((l_arr_0, arr_1))\n",
    "    else:\n",
    "        diff = l_arr_1 - l_arr_0\n",
    "        arr_1.resize((l_arr_1 - diff, arr_1.shape[1]))\n",
    "        array = np.concatenate((arr_0, arr_1))\n",
    "    return array"
   ]
  },
  {
   "cell_type": "markdown",
   "metadata": {},
   "source": [
    "## Scaling datasets"
   ]
  },
  {
   "cell_type": "code",
   "execution_count": 49,
   "metadata": {},
   "outputs": [],
   "source": [
    "train_scaled = train[np.random.randint(\n",
    "    train.shape[0], size=int(len(train)*scale)), :]\n",
    "test_scaled = test[np.random.randint(\n",
    "    test.shape[0], size=int(len(test)*scale)), :]"
   ]
  },
  {
   "cell_type": "markdown",
   "metadata": {},
   "source": [
    "## Preparing datasets"
   ]
  },
  {
   "cell_type": "code",
   "execution_count": 50,
   "metadata": {},
   "outputs": [],
   "source": [
    "def prepare_dataset(dataset):\n",
    "    X_ = list()\n",
    "    y_ = list()\n",
    "    for features, label in dataset:\n",
    "        X_.append(features)\n",
    "        y_.append(label)\n",
    "    X_ = np.array(X_)\n",
    "    X_ = X_.reshape(-1, IMG_SIZE, IMG_SIZE, 1)\n",
    "    y_ = np.array(y_)\n",
    "    return X_, y_"
   ]
  },
  {
   "cell_type": "code",
   "execution_count": 51,
   "metadata": {},
   "outputs": [],
   "source": [
    "x_train, label_train = prepare_dataset(mix_datasets(train))\n",
    "x_test, label_test = prepare_dataset(mix_datasets(test))\n",
    "x_val, label_val = prepare_dataset(mix_datasets(val))"
   ]
  },
  {
   "cell_type": "code",
   "execution_count": 52,
   "metadata": {},
   "outputs": [],
   "source": [
    "# Append train + test + val data in order to scale our datasets\n",
    "X = np.concatenate((x_train, x_test))\n",
    "X = np.concatenate((X, x_val))\n",
    "Y = np.concatenate((label_train, label_test))\n",
    "Y = np.concatenate((Y, label_val))"
   ]
  },
  {
   "cell_type": "code",
   "execution_count": 53,
   "metadata": {},
   "outputs": [],
   "source": [
    "# Hold-Out cross validation\n",
    "# test_size: what proportion of original data is used for test set \n",
    "x_train, x_test, label_train, label_test = train_test_split( X, Y, test_size=0.30)"
   ]
  },
  {
   "cell_type": "markdown",
   "metadata": {},
   "source": [
    "Normalize Data"
   ]
  },
  {
   "cell_type": "code",
   "execution_count": 54,
   "metadata": {},
   "outputs": [],
   "source": [
    "xmax = np.array(x_train).max()\n",
    "x_train = x_train / xmax\n",
    "xmax = np.array(x_test).max()\n",
    "x_test = x_test / xmax"
   ]
  },
  {
   "cell_type": "markdown",
   "metadata": {},
   "source": [
    "### 2. Learning of model <a id=\"model\"></a>"
   ]
  },
  {
   "cell_type": "code",
   "execution_count": 55,
   "metadata": {},
   "outputs": [],
   "source": [
    "from tensorflow.keras.models import Sequential\n",
    "from tensorflow.keras.layers import Conv2D\n",
    "from tensorflow.keras.layers import MaxPool2D\n",
    "from tensorflow.keras.layers import Flatten\n",
    "from tensorflow.keras.layers import Dropout\n",
    "from tensorflow.keras.layers import Dense\n",
    "from tensorflow.keras import layers, models\n",
    "\n",
    "model = models.Sequential()\n",
    "model.add(layers.Conv2D(32, (3, 3), activation='relu',\n",
    "          input_shape=(IMG_SIZE, IMG_SIZE, 1)))\n",
    "model.add(layers.MaxPooling2D((2, 2)))\n",
    "\n",
    "model.add(layers.Conv2D(64, (3, 3), activation='relu'))\n",
    "model.add(layers.MaxPooling2D((2, 2)))\n",
    "\n",
    "model.add(layers.Conv2D(64, (3, 3), activation='relu'))\n",
    "model.add(layers.MaxPooling2D((2, 2)))\n",
    "\n",
    "model.add(layers.Conv2D(128, (3, 3), activation='relu'))\n",
    "model.add(layers.MaxPooling2D((2, 2)))\n",
    "\n",
    "model.add(layers.Flatten())\n",
    "model.add(layers.Dense(120))\n",
    "model.add(layers.Dense(2, activation='softmax'))"
   ]
  },
  {
   "cell_type": "markdown",
   "metadata": {},
   "source": [
    "## Init training's Callback"
   ]
  },
  {
   "cell_type": "code",
   "execution_count": 56,
   "metadata": {},
   "outputs": [],
   "source": [
    "def callbacks():\n",
    "    callbacks = [\n",
    "        tf.keras.callbacks.ModelCheckpoint(\n",
    "            filepath='lstmchar256256128test.h5',\n",
    "            monitor='loss',\n",
    "            save_best_only=True\n",
    "        ),\n",
    "        tf.keras.callbacks.EarlyStopping(\n",
    "            monitor='loss',\n",
    "            min_delta=0,\n",
    "            patience=4,\n",
    "            mode='auto',\n",
    "            baseline=None,\n",
    "        )\n",
    "    ]\n",
    "    return callbacks"
   ]
  },
  {
   "cell_type": "code",
   "execution_count": 57,
   "metadata": {},
   "outputs": [
    {
     "name": "stdout",
     "output_type": "stream",
     "text": [
      "Model: \"sequential\"\n",
      "_________________________________________________________________\n",
      " Layer (type)                Output Shape              Param #   \n",
      "=================================================================\n",
      " conv2d (Conv2D)             (None, 98, 98, 32)        320       \n",
      "                                                                 \n",
      " max_pooling2d (MaxPooling2D  (None, 49, 49, 32)       0         \n",
      " )                                                               \n",
      "                                                                 \n",
      " conv2d_1 (Conv2D)           (None, 47, 47, 64)        18496     \n",
      "                                                                 \n",
      " max_pooling2d_1 (MaxPooling  (None, 23, 23, 64)       0         \n",
      " 2D)                                                             \n",
      "                                                                 \n",
      " conv2d_2 (Conv2D)           (None, 21, 21, 64)        36928     \n",
      "                                                                 \n",
      " max_pooling2d_2 (MaxPooling  (None, 10, 10, 64)       0         \n",
      " 2D)                                                             \n",
      "                                                                 \n",
      " conv2d_3 (Conv2D)           (None, 8, 8, 128)         73856     \n",
      "                                                                 \n",
      " max_pooling2d_3 (MaxPooling  (None, 4, 4, 128)        0         \n",
      " 2D)                                                             \n",
      "                                                                 \n",
      " flatten (Flatten)           (None, 2048)              0         \n",
      "                                                                 \n",
      " dense (Dense)               (None, 120)               245880    \n",
      "                                                                 \n",
      " dense_1 (Dense)             (None, 2)                 242       \n",
      "                                                                 \n",
      "=================================================================\n",
      "Total params: 375,722\n",
      "Trainable params: 375,722\n",
      "Non-trainable params: 0\n",
      "_________________________________________________________________\n"
     ]
    }
   ],
   "source": [
    "model.summary()"
   ]
  },
  {
   "cell_type": "code",
   "execution_count": 58,
   "metadata": {},
   "outputs": [],
   "source": [
    "y_test = np.array(label_test)\n",
    "y_train = np.array(label_train)"
   ]
  },
  {
   "cell_type": "code",
   "execution_count": 59,
   "metadata": {},
   "outputs": [
    {
     "name": "stdout",
     "output_type": "stream",
     "text": [
      "Epoch 1/10\n"
     ]
    },
    {
     "name": "stderr",
     "output_type": "stream",
     "text": [
      "/Users/guixax/opt/anaconda3/lib/python3.8/site-packages/tensorflow/python/util/dispatch.py:1082: UserWarning: \"`sparse_categorical_crossentropy` received `from_logits=True`, but the `output` argument was produced by a sigmoid or softmax activation and thus does not represent logits. Was this intended?\"\n",
      "  return dispatch_target(*args, **kwargs)\n"
     ]
    },
    {
     "name": "stdout",
     "output_type": "stream",
     "text": [
      "4/4 [==============================] - 2s 275ms/step - loss: 0.7274 - accuracy: 0.5000 - val_loss: 0.7119 - val_accuracy: 0.5000\n",
      "Epoch 2/10\n",
      "4/4 [==============================] - 1s 208ms/step - loss: 0.7067 - accuracy: 0.5417 - val_loss: 0.6845 - val_accuracy: 0.7500\n",
      "Epoch 3/10\n",
      "4/4 [==============================] - 1s 199ms/step - loss: 0.6809 - accuracy: 0.5917 - val_loss: 0.6814 - val_accuracy: 0.5192\n",
      "Epoch 4/10\n",
      "4/4 [==============================] - 1s 213ms/step - loss: 0.6697 - accuracy: 0.5750 - val_loss: 0.6720 - val_accuracy: 0.6923\n",
      "Epoch 5/10\n",
      "4/4 [==============================] - 1s 236ms/step - loss: 0.6534 - accuracy: 0.6000 - val_loss: 0.6584 - val_accuracy: 0.6346\n",
      "Epoch 6/10\n",
      "4/4 [==============================] - 1s 208ms/step - loss: 0.6070 - accuracy: 0.8333 - val_loss: 0.6114 - val_accuracy: 0.7500\n",
      "Epoch 7/10\n",
      "4/4 [==============================] - 1s 219ms/step - loss: 0.5280 - accuracy: 0.8333 - val_loss: 0.6329 - val_accuracy: 0.6346\n",
      "Epoch 8/10\n",
      "4/4 [==============================] - 1s 235ms/step - loss: 0.4765 - accuracy: 0.7667 - val_loss: 0.5013 - val_accuracy: 0.7885\n",
      "Epoch 9/10\n",
      "4/4 [==============================] - 1s 209ms/step - loss: 0.4793 - accuracy: 0.7583 - val_loss: 0.4590 - val_accuracy: 0.8462\n",
      "Epoch 10/10\n",
      "4/4 [==============================] - 1s 264ms/step - loss: 0.3963 - accuracy: 0.8417 - val_loss: 0.4516 - val_accuracy: 0.8269\n",
      "9.903994083404541 s\n"
     ]
    }
   ],
   "source": [
    "model.compile(optimizer='adam',\n",
    "              loss=tf.keras.losses.SparseCategoricalCrossentropy(\n",
    "                  from_logits=True),\n",
    "              metrics=['accuracy'])\n",
    "\n",
    "time1 = time.time()\n",
    "history = model.fit(x_train, y_train, epochs=10, validation_data=(\n",
    "    x_test, y_test), callbacks=callbacks())\n",
    "\n",
    "# Print duration time\n",
    "duration_time = time.time() - time1\n",
    "if duration_time < 60:\n",
    "    print(\"{} s\".format(duration_time))\n",
    "else:\n",
    "    print(\"{} min\".format(duration_time/60))"
   ]
  },
  {
   "cell_type": "markdown",
   "metadata": {},
   "source": [
    "# 3. Displaying metrics <a id=\"metric\"></a>"
   ]
  },
  {
   "cell_type": "markdown",
   "metadata": {},
   "source": [
    "## loss + accuracy graph"
   ]
  },
  {
   "cell_type": "code",
   "execution_count": 60,
   "metadata": {},
   "outputs": [
    {
     "data": {
      "text/plain": [
       "<matplotlib.legend.Legend at 0x7fdaf156e6d0>"
      ]
     },
     "execution_count": 60,
     "metadata": {},
     "output_type": "execute_result"
    },
    {
     "data": {
      "image/png": "[encoded data removed]",
      "text/plain": [
       "<Figure size 432x288 with 1 Axes>"
      ]
     },
     "metadata": {
      "needs_background": "light"
     },
     "output_type": "display_data"
    }
   ],
   "source": [
    "import matplotlib.pyplot as plt\n",
    "\n",
    "history_loss = history.history[\"loss\"]\n",
    "history_acc = history.history[\"accuracy\"]\n",
    "\n",
    "plt.plot(history_loss, label=\"loss\")\n",
    "plt.plot(history_acc, label=\"acc\")\n",
    "plt.title(\"Training history\")\n",
    "plt.legend()\n"
   ]
  },
  {
   "cell_type": "markdown",
   "metadata": {},
   "source": [
    "## Prediction"
   ]
  },
  {
   "cell_type": "code",
   "execution_count": 61,
   "metadata": {},
   "outputs": [],
   "source": [
    "pred = model.predict(x_test)\n"
   ]
  },
  {
   "cell_type": "code",
   "execution_count": 62,
   "metadata": {},
   "outputs": [
    {
     "name": "stdout",
     "output_type": "stream",
     "text": [
      "                           precision    recall  f1-score   support\n",
      "\n",
      "     058.Pigeon_Guillemot       0.85      0.81      0.83        27\n",
      "191.Red_headed_Woodpecker       0.81      0.84      0.82        25\n",
      "\n",
      "                 accuracy                           0.83        52\n",
      "                macro avg       0.83      0.83      0.83        52\n",
      "             weighted avg       0.83      0.83      0.83        52\n",
      "\n"
     ]
    }
   ],
   "source": [
    "predicted_classes = np.argmax(pred, axis=1)\n",
    "report = classification_report(predicted_classes, y_test, target_names=labels)\n",
    "print(report)\n"
   ]
  },
  {
   "cell_type": "markdown",
   "metadata": {},
   "source": [
    "We can see that our model obtains 65% precision for the guillemot pigeon against 72% for the Red headed woodpecker"
   ]
  },
  {
   "cell_type": "markdown",
   "metadata": {},
   "source": [
    "### Cunsion Mactix"
   ]
  },
  {
   "cell_type": "code",
   "execution_count": 63,
   "metadata": {},
   "outputs": [],
   "source": [
    "def plot_confusion_matrix(cm, classes,\n",
    "                          normalize=False,\n",
    "                          title='Confusion matrix',\n",
    "                          cmap=plt.cm.Blues):\n",
    "    \"\"\"\n",
    "    This function prints and plots the confusion matrix.\n",
    "    Normalization can be applied by setting `normalize=True`.\n",
    "    \"\"\"\n",
    "    plt.imshow(cm, interpolation='nearest', cmap=cmap)\n",
    "    plt.title(title)\n",
    "    plt.colorbar()\n",
    "    tick_marks = np.arange(len(classes))\n",
    "    plt.xticks(tick_marks, classes, rotation=45)\n",
    "    plt.yticks(tick_marks, classes)\n",
    "\n",
    "    if normalize:\n",
    "        cm = cm.astype('float') / cm.sum(axis=1)[:, np.newaxis]\n",
    "        print(\"Normalized confusion matrix\")\n",
    "    else:\n",
    "        print('Confusion matrix, without normalization')\n",
    "\n",
    "    print(cm)\n",
    "\n",
    "    thresh = cm.max() / 2.\n",
    "    for i, j in itertools.product(range(cm.shape[0]), range(cm.shape[1])):\n",
    "        plt.text(j, i, cm[i, j],\n",
    "                 horizontalalignment=\"center\",\n",
    "                 color=\"white\" if cm[i, j] > thresh else \"black\")\n",
    "\n",
    "    plt.tight_layout()\n",
    "    plt.ylabel('True label')\n",
    "    plt.xlabel('Predicted label')\n"
   ]
  },
  {
   "cell_type": "code",
   "execution_count": 64,
   "metadata": {},
   "outputs": [],
   "source": [
    "cm = confusion_matrix(y_true=label_test, y_pred=predicted_classes)\n"
   ]
  },
  {
   "cell_type": "code",
   "execution_count": 65,
   "metadata": {},
   "outputs": [
    {
     "name": "stdout",
     "output_type": "stream",
     "text": [
      "Confusion matrix, without normalization\n",
      "[[22  4]\n",
      " [ 5 21]]\n"
     ]
    },
    {
     "data": {
      "image/png": "[encoded data removed]",
      "text/plain": [
       "<Figure size 432x288 with 2 Axes>"
      ]
     },
     "metadata": {
      "needs_background": "light"
     },
     "output_type": "display_data"
    }
   ],
   "source": [
    "plot_confusion_matrix(cm=cm, classes=labels, title='Confusion Matrix')\n"
   ]
  },
  {
   "cell_type": "code",
   "execution_count": 66,
   "metadata": {},
   "outputs": [
    {
     "name": "stdout",
     "output_type": "stream",
     "text": [
      "Test loss     : 0.4516\n",
      "Test accuracy : 0.8269\n"
     ]
    }
   ],
   "source": [
    "score = model.evaluate(x_test, y_test, verbose=0)\n",
    "\n",
    "print(f'Test loss     : {score[0]:4.4f}')\n",
    "print(f'Test accuracy : {score[1]:4.4f}')\n"
   ]
  },
  {
   "cell_type": "markdown",
   "metadata": {},
   "source": [
    "# conclusion <a id=\"conclusion\"></a>"
   ]
  },
  {
   "cell_type": "markdown",
   "metadata": {},
   "source": [
    "Based on the confusion matrix, we obtain an accuracy of 82% for the guillemot pigeon with a few proportion of false negatives , as well as an accuracy of 84% for the Red headed woodpecker with a small amount of false positive.\n",
    "\n",
    "The cause of this discrepancy in accuracy can be due to several things such as an uneven distribution of our starting dataset with one class more present than the other."
   ]
  },
  {
   "cell_type": "code",
   "execution_count": 67,
   "metadata": {},
   "outputs": [
    {
     "name": "stdout",
     "output_type": "stream",
     "text": [
      "INFO:tensorflow:Assets written to: ram://15fe69a9-45ad-4269-b9d5-6384dc269e74/assets\n"
     ]
    }
   ],
   "source": [
    "pickle.dump(model, open('model.sav', 'wb'))\n"
   ]
  }
 ],
 "metadata": {
  "kernelspec": {
   "display_name": "Python 3.8.8 ('base')",
   "language": "python",
   "name": "python3"
  },
  "language_info": {
   "codemirror_mode": {
    "name": "ipython",
    "version": 3
   },
   "file_extension": ".py",
   "mimetype": "text/x-python",
   "name": "python",
   "nbconvert_exporter": "python",
   "pygments_lexer": "ipython3",
   "version": "3.8.8"
  },
  "vscode": {
   "interpreter": {
    "hash": "144f974373c9fda24aaee5df054dd1f07b7d95d6200df4c599d8b429227f40a3"
   }
  }
 },
 "nbformat": 4,
 "nbformat_minor": 4
}
