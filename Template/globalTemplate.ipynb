{
 "cells": [
  {
   "cell_type": "markdown",
   "metadata": {},
   "source": [
    "# Ethno\n",
    "\n",
    "This notebook is a global template for loading and preprocess data.\n",
    "\n",
    "## What is the SVM algorithm?\n",
    "\n",
    " It is a supervised learning algorithm designed to solve discrimination and regression problems.\n",
    " \n",
    " It is a very good image classification algorithm.\n",
    " \n",
    " ![enter image description here](https://editor.analyticsvidhya.com/uploads/61706svm3.png)\n",
    " \n",
    " ## Summary\n",
    " \n",
    " 1. [Data preparation](#prepaData)\n",
    " 2. [Learning of model](#model)\n",
    " 3. [Displaying metrcis](#metric)\n",
    " 4. [Conclusion](#conclusion)\n",
    "\n",
    "### 1. Data preparation <a id=\"prepaData\"></a>\n",
    " \n",
    " - To start, we import the necessary libraries."
   ]
  },
  {
   "cell_type": "code",
   "execution_count": 1,
   "metadata": {
    "_cell_guid": "b1076dfc-b9ad-4769-8c92-a6c4dae69d19",
    "_uuid": "8f2839f25d086af736a60e9eeb907d3b93b6e0e5",
    "tags": []
   },
   "outputs": [],
   "source": [
    "# This Python 3 environment comes with many helpful analytics libraries installed\n",
    "# It is defined by the kaggle/python Docker image: https://github.com/kaggle/docker-python\n",
    "# For example, here's several helpful packages to load\n",
    "\n",
    "import numpy as np # linear algebra\n",
    "import pandas as pd # data processing, CSV file I/O (e.g. pd.read_csv)\n",
    "\n",
    "# Input data files are available in the read-only \"../input/\" directory\n",
    "# For example, running this (by clicking run or pressing Shift+Enter) will list all files under the input directory\n",
    "\n",
    "import os\n",
    "import cv2\n",
    "from tqdm import tqdm\n",
    "\n",
    "# You can write up to 20GB to the current directory (/kaggle/working/) that gets preserved as output when you create a version using \"Save & Run All\" \n",
    "# You can also write temporary files to /kaggle/temp/, but they won't be saved outside of the current session"
   ]
  },
  {
   "cell_type": "markdown",
   "metadata": {},
   "source": [
    " - We define all necessary variables."
   ]
  },
  {
   "cell_type": "code",
   "execution_count": 2,
   "metadata": {},
   "outputs": [],
   "source": [
    "path = 'images'\n",
    "IMG_SIZE = 100"
   ]
  },
  {
   "cell_type": "markdown",
   "metadata": {},
   "source": [
    "- We create the function that load all our data and we call it"
   ]
  },
  {
   "cell_type": "code",
   "execution_count": 3,
   "metadata": {},
   "outputs": [],
   "source": [
    "def loadingData(path):\n",
    "    CATEGORIES = []\n",
    "    data = []\n",
    "    \n",
    "    dirs = os.listdir(path)\n",
    "    for file in dirs:\n",
    "        CATEGORIES.append(file)\n",
    "\n",
    "    for category in tqdm(CATEGORIES):\n",
    "        localPath = os.path.join(path, category)\n",
    "        for img in os.listdir(localPath):\n",
    "            img_array = cv2.imread(os.path.join(localPath, img))\n",
    "            new_array=cv2.resize(img_array,(IMG_SIZE,IMG_SIZE))\n",
    "            data.append([new_array, category])\n",
    "    \n",
    "    return data"
   ]
  },
  {
   "cell_type": "code",
   "execution_count": 4,
   "metadata": {
    "tags": []
   },
   "outputs": [
    {
     "name": "stderr",
     "output_type": "stream",
     "text": [
      "100%|██████████| 2/2 [00:00<00:00,  5.86it/s]\n"
     ]
    }
   ],
   "source": [
    "data = loadingData(path)"
   ]
  },
  {
   "cell_type": "markdown",
   "metadata": {},
   "source": [
    "- We create the function that preprocess all our data and we call it"
   ]
  },
  {
   "cell_type": "code",
   "execution_count": 5,
   "metadata": {},
   "outputs": [],
   "source": [
    "from sklearn.model_selection import train_test_split\n",
    "\n",
    "def preprocessing(df):\n",
    "    x = []\n",
    "    y = []\n",
    "\n",
    "    for categories, label in df:\n",
    "        x.append(categories)\n",
    "        y.append(label)\n",
    "        \n",
    "    x = np.array(x).reshape(len(x),-1)\n",
    "    x = x / 255.0\n",
    "        \n",
    "    #split\n",
    "    return train_test_split(x, y, test_size=0.33, random_state=42)"
   ]
  },
  {
   "cell_type": "code",
   "execution_count": 6,
   "metadata": {},
   "outputs": [],
   "source": [
    "X_train, x_test, y_train, y_test = preprocessing(data)"
   ]
  },
  {
   "cell_type": "markdown",
   "metadata": {},
   "source": [
    "### 2. Learning of model <a id=\"model\"></a>"
   ]
  }
 ],
 "metadata": {
  "kernelspec": {
   "display_name": "Python 3 (ipykernel)",
   "language": "python",
   "name": "python3"
  },
  "language_info": {
   "codemirror_mode": {
    "name": "ipython",
    "version": 3
   },
   "file_extension": ".py",
   "mimetype": "text/x-python",
   "name": "python",
   "nbconvert_exporter": "python",
   "pygments_lexer": "ipython3",
   "version": "3.9.7"
  }
 },
 "nbformat": 4,
 "nbformat_minor": 4
}
