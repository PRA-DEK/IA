{
 "cells": [
  {
   "cell_type": "markdown",
   "metadata": {},
   "source": [
    "# <!-- TITLE --> Loading datetsets\n",
    "<!-- DESC --> Loading images:\n",
    "- Database import (Local,AWS, github)\n",
    "- Cleaning the datasets\n",
    "- Separation into subsets (Train, Test, Meta)\n",
    "- Reading the dataset\n",
    "\n",
    "#### Datatset : https://deepai.org/dataset/cub-200-2011\n",
    "\n",
    "<!-- DESC -->\n",
    "\n",
    "**Rename the folder 'images' file in CUB-200-2011 to images_orig and add the correct path for the dataset in the ROOT_DIR**\n",
    "\n",
    "#### Using Pylint : \n",
    "\n",
    "```Pylint [options] modules_or_packages```\n",
    "<!-- DESC -->\n",
    "\n",
    "##### Source code analysis section : \n",
    "\n",
    "````MESSAGE_TYPE: LINE_NUM:[OBJECT:] MESSAGE````\n",
    "\n",
    "Output explications : \n",
    " - [I]nformational messages that Pylint emits (do not contribute to your analysis score)\n",
    " - [R]efactor for a \"good practice\" metric violation\n",
    " - [C]onvention for coding standard violation\n",
    " - [W]arning for stylistic problems, or minor programming issues\n",
    " - [E]rror for important programming issues (i.e. most probably bug)\n",
    " - [F]atal for errors which prevented further processing\n",
    "\n",
    "\n",
    "\n"
   ]
  },
  {
   "cell_type": "markdown",
   "metadata": {},
   "source": [
    "# Import and init"
   ]
  },
  {
   "cell_type": "code",
   "execution_count": 55,
   "metadata": {},
   "outputs": [],
   "source": [
    "import os\n",
    "import tensorflow as tf\n",
    "import pandas as pd\n",
    "import shutil\n",
    "\n",
    "\n",
    "ROOT_DIR = ''"
   ]
  },
  {
   "cell_type": "markdown",
   "metadata": {},
   "source": [
    "# Prepare the dataset\n",
    "\n",
    "#### Loads the image files paths with image_ID (images.txt), and train_test_split.txt designation into Pandas Dataframes"
   ]
  },
  {
   "cell_type": "code",
   "execution_count": 56,
   "metadata": {},
   "outputs": [
    {
     "data": {
      "text/html": [
       "<div>\n",
       "<style scoped>\n",
       "    .dataframe tbody tr th:only-of-type {\n",
       "        vertical-align: middle;\n",
       "    }\n",
       "\n",
       "    .dataframe tbody tr th {\n",
       "        vertical-align: top;\n",
       "    }\n",
       "\n",
       "    .dataframe thead th {\n",
       "        text-align: right;\n",
       "    }\n",
       "</style>\n",
       "<table border=\"1\" class=\"dataframe\">\n",
       "  <thead>\n",
       "    <tr style=\"text-align: right;\">\n",
       "      <th></th>\n",
       "      <th>Img ID</th>\n",
       "      <th>file path</th>\n",
       "      <th>is training image?</th>\n",
       "    </tr>\n",
       "  </thead>\n",
       "  <tbody>\n",
       "    <tr>\n",
       "      <th>0</th>\n",
       "      <td>1</td>\n",
       "      <td>001.Black_footed_Albatross/Black_Footed_Albatr...</td>\n",
       "      <td>0</td>\n",
       "    </tr>\n",
       "    <tr>\n",
       "      <th>1</th>\n",
       "      <td>2</td>\n",
       "      <td>001.Black_footed_Albatross/Black_Footed_Albatr...</td>\n",
       "      <td>1</td>\n",
       "    </tr>\n",
       "    <tr>\n",
       "      <th>2</th>\n",
       "      <td>3</td>\n",
       "      <td>001.Black_footed_Albatross/Black_Footed_Albatr...</td>\n",
       "      <td>0</td>\n",
       "    </tr>\n",
       "    <tr>\n",
       "      <th>3</th>\n",
       "      <td>4</td>\n",
       "      <td>001.Black_footed_Albatross/Black_Footed_Albatr...</td>\n",
       "      <td>1</td>\n",
       "    </tr>\n",
       "    <tr>\n",
       "      <th>4</th>\n",
       "      <td>5</td>\n",
       "      <td>001.Black_footed_Albatross/Black_Footed_Albatr...</td>\n",
       "      <td>1</td>\n",
       "    </tr>\n",
       "  </tbody>\n",
       "</table>\n",
       "</div>"
      ],
      "text/plain": [
       "   Img ID                                          file path  \\\n",
       "0       1  001.Black_footed_Albatross/Black_Footed_Albatr...   \n",
       "1       2  001.Black_footed_Albatross/Black_Footed_Albatr...   \n",
       "2       3  001.Black_footed_Albatross/Black_Footed_Albatr...   \n",
       "3       4  001.Black_footed_Albatross/Black_Footed_Albatr...   \n",
       "4       5  001.Black_footed_Albatross/Black_Footed_Albatr...   \n",
       "\n",
       "   is training image?  \n",
       "0                   0  \n",
       "1                   1  \n",
       "2                   0  \n",
       "3                   1  \n",
       "4                   1  "
      ]
     },
     "execution_count": 56,
     "metadata": {},
     "output_type": "execute_result"
    }
   ],
   "source": [
    "orig_images_folder = 'images_orig'\n",
    "new_images_folder = 'images'\n",
    "\n",
    "image_fnames = pd.read_csv(filepath_or_buffer=os.path.join(ROOT_DIR, 'images.txt'),\n",
    "                           header=None,\n",
    "                           delimiter=' ',\n",
    "                           names=['Img ID', 'file path'])\n",
    "\n",
    "image_fnames['is training image?'] = pd.read_csv(filepath_or_buffer=os.path.join(ROOT_DIR, 'train_test_split.txt'),\n",
    "                                                 header=None, delimiter=' ',\n",
    "                                                 names=['Img ID', 'is training image?'])['is training image?']\n",
    "image_fnames.head()\n"
   ]
  },
  {
   "cell_type": "markdown",
   "metadata": {},
   "source": [
    "#### Let's modify the dataset files structure to pytorch ImageFolder form.\n",
    "<!-- DESC --> \n",
    "Using the train_test_split.txt file, each image is copied either to the relevant folder in either the train or test folders."
   ]
  },
  {
   "cell_type": "code",
   "execution_count": 57,
   "metadata": {},
   "outputs": [
    {
     "name": "stdout",
     "output_type": "stream",
     "text": [
      "prepare dataset structure done.\n"
     ]
    }
   ],
   "source": [
    "data_dir = os.path.join(ROOT_DIR, orig_images_folder)\n",
    "new_data_dir = os.path.join(ROOT_DIR, new_images_folder)\n",
    "os.makedirs(os.path.join(new_data_dir, 'train'), exist_ok=True)\n",
    "os.makedirs(os.path.join(new_data_dir, 'test'), exist_ok=True)\n",
    "\n",
    "for i_image, image_fname in enumerate(image_fnames['file path']):\n",
    "    if image_fnames['is training image?'].iloc[i_image]:\n",
    "        new_dir = os.path.join(new_data_dir, 'train', image_fname.split('/')[0])\n",
    "        os.makedirs(new_dir, exist_ok=True)\n",
    "        shutil.copy(src=os.path.join(data_dir, image_fname), dst=os.path.join(new_dir, image_fname.split('/')[1]))\n",
    "    else:\n",
    "        new_dir = os.path.join(new_data_dir, 'test', image_fname.split('/')[0])\n",
    "        os.makedirs(new_dir, exist_ok=True)\n",
    "        shutil.copy(src=os.path.join(data_dir, image_fname), dst=os.path.join(new_dir, image_fname.split('/')[1]))\n",
    "print('prepare dataset structure done.')"
   ]
  },
  {
   "cell_type": "markdown",
   "metadata": {},
   "source": [
    "# Parameters"
   ]
  },
  {
   "cell_type": "code",
   "execution_count": 58,
   "metadata": {},
   "outputs": [],
   "source": [
    "# scale = 0.2\n",
    "# progress_verbosity = 1\n",
    "\n",
    "data_dir = os.path.join(ROOT_DIR, 'images')\n",
    "train_data_dir = os.path.join(data_dir, 'train')\n",
    "test_data_dir = os.path.join(data_dir, 'test')\n"
   ]
  }
 ],
 "metadata": {
  "interpreter": {
   "hash": "144f974373c9fda24aaee5df054dd1f07b7d95d6200df4c599d8b429227f40a3"
  },
  "kernelspec": {
   "display_name": "Python 3.8.8 ('base')",
   "language": "python",
   "name": "python3"
  },
  "language_info": {
   "codemirror_mode": {
    "name": "ipython",
    "version": 3
   },
   "file_extension": ".py",
   "mimetype": "text/x-python",
   "name": "python",
   "nbconvert_exporter": "python",
   "pygments_lexer": "ipython3",
   "version": "3.8.8"
  },
  "orig_nbformat": 4
 },
 "nbformat": 4,
 "nbformat_minor": 2
}
