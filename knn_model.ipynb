{
 "cells": [
  {
   "cell_type": "code",
   "execution_count": 152,
   "id": "330b1aee",
   "metadata": {},
   "outputs": [],
   "source": [
    "# This Python 3 environment comes with many helpful analytics libraries installed\n",
    "# It is defined by the kaggle/python Docker image: https://github.com/kaggle/docker-python\n",
    "# For example, here's several helpful packages to load\n",
    "\n",
    "import numpy as np # linear algebra\n",
    "import pandas as pd # data processing, CSV file I/O (e.g. pd.read_csv)\n",
    "\n",
    "# Input data files are available in the read-only \"../input/\" directory\n",
    "# For example, running this (by clicking run or pressing Shift+Enter) will list all files under the input directory\n",
    "\n",
    "import os\n",
    "import cv2\n",
    "from tqdm import tqdm\n",
    "\n",
    "# You can write up to 20GB to the current directory (/kaggle/working/) that gets preserved as output when you create a version using \"Save & Run All\" \n",
    "# You can also write temporary files to /kaggle/temp/, but they won't be saved outside of the current session"
   ]
  },
  {
   "cell_type": "code",
   "execution_count": 153,
   "id": "5389bd10",
   "metadata": {},
   "outputs": [],
   "source": [
    "path = '../images'\n",
    "IMG_SIZE = 100"
   ]
  },
  {
   "cell_type": "code",
   "execution_count": 154,
   "id": "be07a527",
   "metadata": {},
   "outputs": [],
   "source": [
    "def loadingData(path):\n",
    "    CATEGORIES = []\n",
    "    data = []\n",
    "    \n",
    "    dirs = os.listdir(path)\n",
    "    for file in dirs:\n",
    "        CATEGORIES.append(file)\n",
    "\n",
    "    for category in tqdm(CATEGORIES):\n",
    "        localPath = os.path.join(path, category)\n",
    "        for img in os.listdir(localPath):\n",
    "            img_array = cv2.imread(os.path.join(localPath, img))\n",
    "            new_array=cv2.resize(img_array,(IMG_SIZE,IMG_SIZE))\n",
    "            data.append([new_array, category])\n",
    "    \n",
    "    return data"
   ]
  },
  {
   "cell_type": "code",
   "execution_count": 155,
   "id": "069994c6",
   "metadata": {},
   "outputs": [
    {
     "name": "stderr",
     "output_type": "stream",
     "text": [
      "100%|██████████| 2/2 [00:02<00:00,  1.32s/it]\n"
     ]
    }
   ],
   "source": [
    "data = loadingData(path)\n"
   ]
  },
  {
   "cell_type": "code",
   "execution_count": 156,
   "id": "cb70c9fb",
   "metadata": {},
   "outputs": [],
   "source": [
    "from sklearn.model_selection import train_test_split\n",
    "\n",
    "def preprocessing(df):\n",
    "    x = []\n",
    "    y = []\n",
    "\n",
    "    for categories, label in df:\n",
    "        x.append(categories)\n",
    "        y.append(label)\n",
    "        \n",
    "    x = np.array(x).reshape(len(x),-1)\n",
    "    x = x / 255.0\n",
    "        \n",
    "    #split\n",
    "    return train_test_split(x, y, test_size=0.33, random_state=42)"
   ]
  },
  {
   "cell_type": "code",
   "execution_count": 157,
   "id": "d669c34f",
   "metadata": {},
   "outputs": [],
   "source": [
    "X_train, x_test, y_train, y_test = preprocessing(data)"
   ]
  },
  {
   "cell_type": "code",
   "execution_count": 158,
   "id": "a59fabab",
   "metadata": {},
   "outputs": [],
   "source": [
    "from sklearn.model_selection import train_test_split\n",
    "from sklearn.neighbors import KNeighborsClassifier\n",
    "import matplotlib.pyplot as plt \n",
    "import seaborn as sns"
   ]
  },
  {
   "cell_type": "code",
   "execution_count": 159,
   "id": "2ca8e9da",
   "metadata": {},
   "outputs": [],
   "source": [
    "K = []\n",
    "training = []\n",
    "test = []\n",
    "scores = {}\n",
    "  \n",
    "for k in range(1, 25):\n",
    "    clf = KNeighborsClassifier(n_neighbors = k)\n",
    "    clf.fit(X_train, y_train)\n",
    "  \n",
    "    training_score = clf.score(X_train, y_train)\n",
    "    test_score = clf.score(x_test, y_test)\n",
    "    K.append(k)\n",
    "  \n",
    "    training.append(training_score)\n",
    "    test.append(test_score)\n",
    "    scores[k] = [training_score, test_score]\n"
   ]
  },
  {
   "cell_type": "code",
   "execution_count": 160,
   "id": "ce9799f6",
   "metadata": {},
   "outputs": [
    {
     "name": "stdout",
     "output_type": "stream",
     "text": [
      "1 : [1.0, 0.5897435897435898]\n",
      "2 : [0.6455696202531646, 0.5641025641025641]\n",
      "3 : [0.7215189873417721, 0.6923076923076923]\n",
      "4 : [0.569620253164557, 0.5641025641025641]\n",
      "5 : [0.6075949367088608, 0.6153846153846154]\n",
      "6 : [0.5443037974683544, 0.5641025641025641]\n",
      "7 : [0.5949367088607594, 0.6153846153846154]\n",
      "8 : [0.5443037974683544, 0.5897435897435898]\n",
      "9 : [0.5822784810126582, 0.6666666666666666]\n",
      "10 : [0.4936708860759494, 0.5897435897435898]\n",
      "11 : [0.5822784810126582, 0.6410256410256411]\n",
      "12 : [0.5189873417721519, 0.6410256410256411]\n",
      "13 : [0.569620253164557, 0.6923076923076923]\n",
      "14 : [0.5569620253164557, 0.6410256410256411]\n",
      "15 : [0.5316455696202531, 0.6923076923076923]\n",
      "16 : [0.5189873417721519, 0.6153846153846154]\n",
      "17 : [0.5063291139240507, 0.6923076923076923]\n",
      "18 : [0.5063291139240507, 0.6666666666666666]\n",
      "19 : [0.5569620253164557, 0.6666666666666666]\n",
      "20 : [0.5063291139240507, 0.6153846153846154]\n",
      "21 : [0.5569620253164557, 0.6666666666666666]\n",
      "22 : [0.5063291139240507, 0.6153846153846154]\n",
      "23 : [0.4936708860759494, 0.6410256410256411]\n",
      "24 : [0.5063291139240507, 0.5897435897435898]\n"
     ]
    }
   ],
   "source": [
    "\n",
    "for keys, values in scores.items():\n",
    "    print(keys, ':', values)"
   ]
  },
  {
   "cell_type": "code",
   "execution_count": 161,
   "id": "2024f980",
   "metadata": {},
   "outputs": [
    {
     "name": "stderr",
     "output_type": "stream",
     "text": [
      "C:\\Users\\mathi\\AppData\\Local\\Programs\\Python\\Python310\\lib\\site-packages\\seaborn\\_decorators.py:36: FutureWarning: Pass the following variables as keyword args: x, y. From version 0.12, the only valid positional argument will be `data`, and passing other arguments without an explicit keyword will result in an error or misinterpretation.\n",
      "  warnings.warn(\n"
     ]
    },
    {
     "data": {
      "image/png": "[encoded data removed]",
      "text/plain": [
       "<Figure size 432x288 with 1 Axes>"
      ]
     },
     "metadata": {
      "needs_background": "light"
     },
     "output_type": "display_data"
    }
   ],
   "source": [
    "ax = sns.stripplot(K, training);\n",
    "ax.set(xlabel ='values of k', ylabel ='Training Score')  \n",
    "  \n",
    "plt.show()\n",
    "# function to show plot"
   ]
  },
  {
   "cell_type": "code",
   "execution_count": 162,
   "id": "3f8195a6",
   "metadata": {},
   "outputs": [
    {
     "name": "stderr",
     "output_type": "stream",
     "text": [
      "C:\\Users\\mathi\\AppData\\Local\\Programs\\Python\\Python310\\lib\\site-packages\\seaborn\\_decorators.py:36: FutureWarning: Pass the following variables as keyword args: x, y. From version 0.12, the only valid positional argument will be `data`, and passing other arguments without an explicit keyword will result in an error or misinterpretation.\n",
      "  warnings.warn(\n"
     ]
    },
    {
     "data": {
      "image/png": "[encoded data removed]",
      "text/plain": [
       "<Figure size 432x288 with 1 Axes>"
      ]
     },
     "metadata": {
      "needs_background": "light"
     },
     "output_type": "display_data"
    }
   ],
   "source": [
    "\n",
    "ax = sns.stripplot(K, test);\n",
    "ax.set(xlabel ='values of k', ylabel ='Test Score')\n",
    "plt.show()"
   ]
  },
  {
   "cell_type": "code",
   "execution_count": 163,
   "id": "62294926",
   "metadata": {},
   "outputs": [
    {
     "data": {
      "image/png": "[encoded data removed]",
      "text/plain": [
       "<Figure size 432x288 with 1 Axes>"
      ]
     },
     "metadata": {
      "needs_background": "light"
     },
     "output_type": "display_data"
    }
   ],
   "source": [
    "\n",
    "plt.scatter(K, training, color ='k')\n",
    "plt.scatter(K, test, color ='g')\n",
    "plt.show()\n",
    "# For overlapping scatter plots"
   ]
  },
  {
   "cell_type": "code",
   "execution_count": 164,
   "id": "84106415",
   "metadata": {},
   "outputs": [
    {
     "data": {
      "image/png": "[encoded data removed]",
      "text/plain": [
       "<Figure size 432x288 with 1 Axes>"
      ]
     },
     "metadata": {
      "needs_background": "light"
     },
     "output_type": "display_data"
    }
   ],
   "source": [
    "errors = []\n",
    "for k in range(2,25):\n",
    "    knn = neighbors.KNeighborsClassifier(k)\n",
    "    errors.append(100*(1 - knn.fit(X_train, y_train).score(x_test, y_test)))\n",
    "plt.plot(range(2,25), errors, 'o-')\n",
    "plt.show()"
   ]
  },
  {
   "cell_type": "code",
   "execution_count": 165,
   "id": "c5878118",
   "metadata": {},
   "outputs": [
    {
     "data": {
      "text/html": [
       "<style>#sk-container-id-11 {color: black;background-color: white;}#sk-container-id-11 pre{padding: 0;}#sk-container-id-11 div.sk-toggleable {background-color: white;}#sk-container-id-11 label.sk-toggleable__label {cursor: pointer;display: block;width: 100%;margin-bottom: 0;padding: 0.3em;box-sizing: border-box;text-align: center;}#sk-container-id-11 label.sk-toggleable__label-arrow:before {content: \"▸\";float: left;margin-right: 0.25em;color: #696969;}#sk-container-id-11 label.sk-toggleable__label-arrow:hover:before {color: black;}#sk-container-id-11 div.sk-estimator:hover label.sk-toggleable__label-arrow:before {color: black;}#sk-container-id-11 div.sk-toggleable__content {max-height: 0;max-width: 0;overflow: hidden;text-align: left;background-color: #f0f8ff;}#sk-container-id-11 div.sk-toggleable__content pre {margin: 0.2em;color: black;border-radius: 0.25em;background-color: #f0f8ff;}#sk-container-id-11 input.sk-toggleable__control:checked~div.sk-toggleable__content {max-height: 200px;max-width: 100%;overflow: auto;}#sk-container-id-11 input.sk-toggleable__control:checked~label.sk-toggleable__label-arrow:before {content: \"▾\";}#sk-container-id-11 div.sk-estimator input.sk-toggleable__control:checked~label.sk-toggleable__label {background-color: #d4ebff;}#sk-container-id-11 div.sk-label input.sk-toggleable__control:checked~label.sk-toggleable__label {background-color: #d4ebff;}#sk-container-id-11 input.sk-hidden--visually {border: 0;clip: rect(1px 1px 1px 1px);clip: rect(1px, 1px, 1px, 1px);height: 1px;margin: -1px;overflow: hidden;padding: 0;position: absolute;width: 1px;}#sk-container-id-11 div.sk-estimator {font-family: monospace;background-color: #f0f8ff;border: 1px dotted black;border-radius: 0.25em;box-sizing: border-box;margin-bottom: 0.5em;}#sk-container-id-11 div.sk-estimator:hover {background-color: #d4ebff;}#sk-container-id-11 div.sk-parallel-item::after {content: \"\";width: 100%;border-bottom: 1px solid gray;flex-grow: 1;}#sk-container-id-11 div.sk-label:hover label.sk-toggleable__label {background-color: #d4ebff;}#sk-container-id-11 div.sk-serial::before {content: \"\";position: absolute;border-left: 1px solid gray;box-sizing: border-box;top: 0;bottom: 0;left: 50%;z-index: 0;}#sk-container-id-11 div.sk-serial {display: flex;flex-direction: column;align-items: center;background-color: white;padding-right: 0.2em;padding-left: 0.2em;position: relative;}#sk-container-id-11 div.sk-item {position: relative;z-index: 1;}#sk-container-id-11 div.sk-parallel {display: flex;align-items: stretch;justify-content: center;background-color: white;position: relative;}#sk-container-id-11 div.sk-item::before, #sk-container-id-11 div.sk-parallel-item::before {content: \"\";position: absolute;border-left: 1px solid gray;box-sizing: border-box;top: 0;bottom: 0;left: 50%;z-index: -1;}#sk-container-id-11 div.sk-parallel-item {display: flex;flex-direction: column;z-index: 1;position: relative;background-color: white;}#sk-container-id-11 div.sk-parallel-item:first-child::after {align-self: flex-end;width: 50%;}#sk-container-id-11 div.sk-parallel-item:last-child::after {align-self: flex-start;width: 50%;}#sk-container-id-11 div.sk-parallel-item:only-child::after {width: 0;}#sk-container-id-11 div.sk-dashed-wrapped {border: 1px dashed gray;margin: 0 0.4em 0.5em 0.4em;box-sizing: border-box;padding-bottom: 0.4em;background-color: white;}#sk-container-id-11 div.sk-label label {font-family: monospace;font-weight: bold;display: inline-block;line-height: 1.2em;}#sk-container-id-11 div.sk-label-container {text-align: center;}#sk-container-id-11 div.sk-container {/* jupyter's `normalize.less` sets `[hidden] { display: none; }` but bootstrap.min.css set `[hidden] { display: none !important; }` so we also need the `!important` here to be able to override the default hidden behavior on the sphinx rendered scikit-learn.org. See: https://github.com/scikit-learn/scikit-learn/issues/21755 */display: inline-block !important;position: relative;}#sk-container-id-11 div.sk-text-repr-fallback {display: none;}</style><div id=\"sk-container-id-11\" class=\"sk-top-container\"><div class=\"sk-text-repr-fallback\"><pre>KNeighborsClassifier(n_neighbors=3)</pre><b>In a Jupyter environment, please rerun this cell to show the HTML representation or trust the notebook. <br />On GitHub, the HTML representation is unable to render, please try loading this page with nbviewer.org.</b></div><div class=\"sk-container\" hidden><div class=\"sk-item\"><div class=\"sk-estimator sk-toggleable\"><input class=\"sk-toggleable__control sk-hidden--visually\" id=\"sk-estimator-id-11\" type=\"checkbox\" checked><label for=\"sk-estimator-id-11\" class=\"sk-toggleable__label sk-toggleable__label-arrow\">KNeighborsClassifier</label><div class=\"sk-toggleable__content\"><pre>KNeighborsClassifier(n_neighbors=3)</pre></div></div></div></div></div>"
      ],
      "text/plain": [
       "KNeighborsClassifier(n_neighbors=3)"
      ]
     },
     "execution_count": 165,
     "metadata": {},
     "output_type": "execute_result"
    }
   ],
   "source": [
    "from sklearn import neighbors\n",
    "\n",
    "knn = neighbors.KNeighborsClassifier(n_neighbors=3)\n",
    "knn.fit(X_train, y_train)"
   ]
  },
  {
   "cell_type": "code",
   "execution_count": 166,
   "id": "0a852e75",
   "metadata": {},
   "outputs": [
    {
     "name": "stdout",
     "output_type": "stream",
     "text": [
      "Erreur: 0.307692\n"
     ]
    }
   ],
   "source": [
    "error = 1 - knn.score(x_test, y_test)\n",
    "print('Erreur: %f' % error)"
   ]
  },
  {
   "cell_type": "code",
   "execution_count": 167,
   "id": "e7bd1069",
   "metadata": {},
   "outputs": [],
   "source": [
    "# On récupère le classifieur le plus performant\n",
    "knn = neighbors.KNeighborsClassifier(5)\n",
    "knn.fit(X_train, y_train)\n",
    "\n",
    "# On récupère les prédictions sur les données test\n",
    "predicted = knn.predict(x_test)\n",
    "\n",
    "# On redimensionne les données sous forme d'images\n",
    "images = x_test.reshape((-1, 30, 30))\n",
    "\n",
    "# On selectionne un echantillon de 12 images au hasard\n",
    "select = np.random.randint(images.shape[0], size=12)\n",
    "\n",
    "pred=knn.predict(x_test)\n"
   ]
  },
  {
   "cell_type": "code",
   "execution_count": 168,
   "id": "c5fb72da",
   "metadata": {},
   "outputs": [
    {
     "name": "stdout",
     "output_type": "stream",
     "text": [
      "Accuracy on data is 0.6153846153846154\n"
     ]
    }
   ],
   "source": [
    "from sklearn.metrics import accuracy_score\n",
    "\n",
    "print(\"Accuracy on data is\",accuracy_score(y_test,pred))"
   ]
  },
  {
   "cell_type": "code",
   "execution_count": 169,
   "id": "bd3f8c2e",
   "metadata": {},
   "outputs": [
    {
     "name": "stdout",
     "output_type": "stream",
     "text": [
      "Classification report is\n",
      "                       precision    recall  f1-score   support\n",
      "\n",
      "     Pigeon_Guillemot       0.59      0.95      0.73        21\n",
      "Red_headed_Woodpecker       0.80      0.22      0.35        18\n",
      "\n",
      "             accuracy                           0.62        39\n",
      "            macro avg       0.69      0.59      0.54        39\n",
      "         weighted avg       0.69      0.62      0.55        39\n",
      "\n"
     ]
    }
   ],
   "source": [
    "from sklearn.metrics import classification_report, confusion_matrix\n",
    "print(\"Classification report is\")\n",
    "print(classification_report(y_test,pred))"
   ]
  },
  {
   "cell_type": "code",
   "execution_count": 170,
   "id": "6606f77f",
   "metadata": {},
   "outputs": [
    {
     "name": "stdout",
     "output_type": "stream",
     "text": [
      "confusion matrix\n",
      "[[20  1]\n",
      " [14  4]]\n"
     ]
    }
   ],
   "source": [
    "print('confusion matrix')\n",
    "print(confusion_matrix(y_test, pred))"
   ]
  },
  {
   "cell_type": "code",
   "execution_count": 171,
   "id": "ccccd4b7",
   "metadata": {},
   "outputs": [
    {
     "data": {
      "text/html": [
       "<div>\n",
       "<style scoped>\n",
       "    .dataframe tbody tr th:only-of-type {\n",
       "        vertical-align: middle;\n",
       "    }\n",
       "\n",
       "    .dataframe tbody tr th {\n",
       "        vertical-align: top;\n",
       "    }\n",
       "\n",
       "    .dataframe thead th {\n",
       "        text-align: right;\n",
       "    }\n",
       "</style>\n",
       "<table border=\"1\" class=\"dataframe\">\n",
       "  <thead>\n",
       "    <tr style=\"text-align: right;\">\n",
       "      <th></th>\n",
       "      <th>original</th>\n",
       "      <th>predicted</th>\n",
       "    </tr>\n",
       "  </thead>\n",
       "  <tbody>\n",
       "    <tr>\n",
       "      <th>0</th>\n",
       "      <td>Pigeon_Guillemot</td>\n",
       "      <td>Pigeon_Guillemot</td>\n",
       "    </tr>\n",
       "    <tr>\n",
       "      <th>1</th>\n",
       "      <td>Red_headed_Woodpecker</td>\n",
       "      <td>Red_headed_Woodpecker</td>\n",
       "    </tr>\n",
       "    <tr>\n",
       "      <th>2</th>\n",
       "      <td>Pigeon_Guillemot</td>\n",
       "      <td>Pigeon_Guillemot</td>\n",
       "    </tr>\n",
       "    <tr>\n",
       "      <th>3</th>\n",
       "      <td>Pigeon_Guillemot</td>\n",
       "      <td>Pigeon_Guillemot</td>\n",
       "    </tr>\n",
       "    <tr>\n",
       "      <th>4</th>\n",
       "      <td>Pigeon_Guillemot</td>\n",
       "      <td>Pigeon_Guillemot</td>\n",
       "    </tr>\n",
       "    <tr>\n",
       "      <th>5</th>\n",
       "      <td>Red_headed_Woodpecker</td>\n",
       "      <td>Pigeon_Guillemot</td>\n",
       "    </tr>\n",
       "    <tr>\n",
       "      <th>6</th>\n",
       "      <td>Red_headed_Woodpecker</td>\n",
       "      <td>Pigeon_Guillemot</td>\n",
       "    </tr>\n",
       "    <tr>\n",
       "      <th>7</th>\n",
       "      <td>Pigeon_Guillemot</td>\n",
       "      <td>Pigeon_Guillemot</td>\n",
       "    </tr>\n",
       "    <tr>\n",
       "      <th>8</th>\n",
       "      <td>Red_headed_Woodpecker</td>\n",
       "      <td>Pigeon_Guillemot</td>\n",
       "    </tr>\n",
       "    <tr>\n",
       "      <th>9</th>\n",
       "      <td>Red_headed_Woodpecker</td>\n",
       "      <td>Pigeon_Guillemot</td>\n",
       "    </tr>\n",
       "    <tr>\n",
       "      <th>10</th>\n",
       "      <td>Pigeon_Guillemot</td>\n",
       "      <td>Pigeon_Guillemot</td>\n",
       "    </tr>\n",
       "    <tr>\n",
       "      <th>11</th>\n",
       "      <td>Red_headed_Woodpecker</td>\n",
       "      <td>Pigeon_Guillemot</td>\n",
       "    </tr>\n",
       "    <tr>\n",
       "      <th>12</th>\n",
       "      <td>Pigeon_Guillemot</td>\n",
       "      <td>Pigeon_Guillemot</td>\n",
       "    </tr>\n",
       "    <tr>\n",
       "      <th>13</th>\n",
       "      <td>Red_headed_Woodpecker</td>\n",
       "      <td>Pigeon_Guillemot</td>\n",
       "    </tr>\n",
       "    <tr>\n",
       "      <th>14</th>\n",
       "      <td>Pigeon_Guillemot</td>\n",
       "      <td>Pigeon_Guillemot</td>\n",
       "    </tr>\n",
       "    <tr>\n",
       "      <th>15</th>\n",
       "      <td>Pigeon_Guillemot</td>\n",
       "      <td>Red_headed_Woodpecker</td>\n",
       "    </tr>\n",
       "    <tr>\n",
       "      <th>16</th>\n",
       "      <td>Red_headed_Woodpecker</td>\n",
       "      <td>Pigeon_Guillemot</td>\n",
       "    </tr>\n",
       "    <tr>\n",
       "      <th>17</th>\n",
       "      <td>Pigeon_Guillemot</td>\n",
       "      <td>Pigeon_Guillemot</td>\n",
       "    </tr>\n",
       "    <tr>\n",
       "      <th>18</th>\n",
       "      <td>Red_headed_Woodpecker</td>\n",
       "      <td>Red_headed_Woodpecker</td>\n",
       "    </tr>\n",
       "    <tr>\n",
       "      <th>19</th>\n",
       "      <td>Red_headed_Woodpecker</td>\n",
       "      <td>Pigeon_Guillemot</td>\n",
       "    </tr>\n",
       "    <tr>\n",
       "      <th>20</th>\n",
       "      <td>Red_headed_Woodpecker</td>\n",
       "      <td>Red_headed_Woodpecker</td>\n",
       "    </tr>\n",
       "    <tr>\n",
       "      <th>21</th>\n",
       "      <td>Pigeon_Guillemot</td>\n",
       "      <td>Pigeon_Guillemot</td>\n",
       "    </tr>\n",
       "    <tr>\n",
       "      <th>22</th>\n",
       "      <td>Red_headed_Woodpecker</td>\n",
       "      <td>Red_headed_Woodpecker</td>\n",
       "    </tr>\n",
       "    <tr>\n",
       "      <th>23</th>\n",
       "      <td>Pigeon_Guillemot</td>\n",
       "      <td>Pigeon_Guillemot</td>\n",
       "    </tr>\n",
       "    <tr>\n",
       "      <th>24</th>\n",
       "      <td>Pigeon_Guillemot</td>\n",
       "      <td>Pigeon_Guillemot</td>\n",
       "    </tr>\n",
       "    <tr>\n",
       "      <th>25</th>\n",
       "      <td>Pigeon_Guillemot</td>\n",
       "      <td>Pigeon_Guillemot</td>\n",
       "    </tr>\n",
       "    <tr>\n",
       "      <th>26</th>\n",
       "      <td>Pigeon_Guillemot</td>\n",
       "      <td>Pigeon_Guillemot</td>\n",
       "    </tr>\n",
       "    <tr>\n",
       "      <th>27</th>\n",
       "      <td>Red_headed_Woodpecker</td>\n",
       "      <td>Pigeon_Guillemot</td>\n",
       "    </tr>\n",
       "    <tr>\n",
       "      <th>28</th>\n",
       "      <td>Red_headed_Woodpecker</td>\n",
       "      <td>Pigeon_Guillemot</td>\n",
       "    </tr>\n",
       "    <tr>\n",
       "      <th>29</th>\n",
       "      <td>Pigeon_Guillemot</td>\n",
       "      <td>Pigeon_Guillemot</td>\n",
       "    </tr>\n",
       "    <tr>\n",
       "      <th>30</th>\n",
       "      <td>Red_headed_Woodpecker</td>\n",
       "      <td>Pigeon_Guillemot</td>\n",
       "    </tr>\n",
       "    <tr>\n",
       "      <th>31</th>\n",
       "      <td>Pigeon_Guillemot</td>\n",
       "      <td>Pigeon_Guillemot</td>\n",
       "    </tr>\n",
       "    <tr>\n",
       "      <th>32</th>\n",
       "      <td>Pigeon_Guillemot</td>\n",
       "      <td>Pigeon_Guillemot</td>\n",
       "    </tr>\n",
       "    <tr>\n",
       "      <th>33</th>\n",
       "      <td>Pigeon_Guillemot</td>\n",
       "      <td>Pigeon_Guillemot</td>\n",
       "    </tr>\n",
       "    <tr>\n",
       "      <th>34</th>\n",
       "      <td>Red_headed_Woodpecker</td>\n",
       "      <td>Pigeon_Guillemot</td>\n",
       "    </tr>\n",
       "    <tr>\n",
       "      <th>35</th>\n",
       "      <td>Pigeon_Guillemot</td>\n",
       "      <td>Pigeon_Guillemot</td>\n",
       "    </tr>\n",
       "    <tr>\n",
       "      <th>36</th>\n",
       "      <td>Red_headed_Woodpecker</td>\n",
       "      <td>Pigeon_Guillemot</td>\n",
       "    </tr>\n",
       "    <tr>\n",
       "      <th>37</th>\n",
       "      <td>Red_headed_Woodpecker</td>\n",
       "      <td>Pigeon_Guillemot</td>\n",
       "    </tr>\n",
       "    <tr>\n",
       "      <th>38</th>\n",
       "      <td>Pigeon_Guillemot</td>\n",
       "      <td>Pigeon_Guillemot</td>\n",
       "    </tr>\n",
       "  </tbody>\n",
       "</table>\n",
       "</div>"
      ],
      "text/plain": [
       "                 original              predicted\n",
       "0        Pigeon_Guillemot       Pigeon_Guillemot\n",
       "1   Red_headed_Woodpecker  Red_headed_Woodpecker\n",
       "2        Pigeon_Guillemot       Pigeon_Guillemot\n",
       "3        Pigeon_Guillemot       Pigeon_Guillemot\n",
       "4        Pigeon_Guillemot       Pigeon_Guillemot\n",
       "5   Red_headed_Woodpecker       Pigeon_Guillemot\n",
       "6   Red_headed_Woodpecker       Pigeon_Guillemot\n",
       "7        Pigeon_Guillemot       Pigeon_Guillemot\n",
       "8   Red_headed_Woodpecker       Pigeon_Guillemot\n",
       "9   Red_headed_Woodpecker       Pigeon_Guillemot\n",
       "10       Pigeon_Guillemot       Pigeon_Guillemot\n",
       "11  Red_headed_Woodpecker       Pigeon_Guillemot\n",
       "12       Pigeon_Guillemot       Pigeon_Guillemot\n",
       "13  Red_headed_Woodpecker       Pigeon_Guillemot\n",
       "14       Pigeon_Guillemot       Pigeon_Guillemot\n",
       "15       Pigeon_Guillemot  Red_headed_Woodpecker\n",
       "16  Red_headed_Woodpecker       Pigeon_Guillemot\n",
       "17       Pigeon_Guillemot       Pigeon_Guillemot\n",
       "18  Red_headed_Woodpecker  Red_headed_Woodpecker\n",
       "19  Red_headed_Woodpecker       Pigeon_Guillemot\n",
       "20  Red_headed_Woodpecker  Red_headed_Woodpecker\n",
       "21       Pigeon_Guillemot       Pigeon_Guillemot\n",
       "22  Red_headed_Woodpecker  Red_headed_Woodpecker\n",
       "23       Pigeon_Guillemot       Pigeon_Guillemot\n",
       "24       Pigeon_Guillemot       Pigeon_Guillemot\n",
       "25       Pigeon_Guillemot       Pigeon_Guillemot\n",
       "26       Pigeon_Guillemot       Pigeon_Guillemot\n",
       "27  Red_headed_Woodpecker       Pigeon_Guillemot\n",
       "28  Red_headed_Woodpecker       Pigeon_Guillemot\n",
       "29       Pigeon_Guillemot       Pigeon_Guillemot\n",
       "30  Red_headed_Woodpecker       Pigeon_Guillemot\n",
       "31       Pigeon_Guillemot       Pigeon_Guillemot\n",
       "32       Pigeon_Guillemot       Pigeon_Guillemot\n",
       "33       Pigeon_Guillemot       Pigeon_Guillemot\n",
       "34  Red_headed_Woodpecker       Pigeon_Guillemot\n",
       "35       Pigeon_Guillemot       Pigeon_Guillemot\n",
       "36  Red_headed_Woodpecker       Pigeon_Guillemot\n",
       "37  Red_headed_Woodpecker       Pigeon_Guillemot\n",
       "38       Pigeon_Guillemot       Pigeon_Guillemot"
      ]
     },
     "execution_count": 171,
     "metadata": {},
     "output_type": "execute_result"
    }
   ],
   "source": [
    "result = pd.DataFrame({'original' : y_test,'predicted' : pred})\n",
    "result[:50]"
   ]
  },
  {
   "cell_type": "code",
   "execution_count": 172,
   "id": "56999a4f",
   "metadata": {},
   "outputs": [],
   "source": [
    "import pickle\n",
    "filename = 'knn_model.sav'\n",
    "pickle.dump(knn, open(filename, 'wb'))"
   ]
  },
  {
   "cell_type": "code",
   "execution_count": null,
   "id": "267c0962",
   "metadata": {},
   "outputs": [],
   "source": []
  }
 ],
 "metadata": {
  "kernelspec": {
   "display_name": "Python 3 (ipykernel)",
   "language": "python",
   "name": "python3"
  },
  "language_info": {
   "codemirror_mode": {
    "name": "ipython",
    "version": 3
   },
   "file_extension": ".py",
   "mimetype": "text/x-python",
   "name": "python",
   "nbconvert_exporter": "python",
   "pygments_lexer": "ipython3",
   "version": "3.10.2"
  }
 },
 "nbformat": 4,
 "nbformat_minor": 5
}
